{
 "cells": [
  {
   "cell_type": "markdown",
   "id": "1c441e60",
   "metadata": {},
   "source": [
    "# PHASE 1\n",
    "# Aim-  Call the public Api and create a csv dataset using python and pandas."
   ]
  },
  {
   "cell_type": "markdown",
   "id": "450c797c",
   "metadata": {},
   "source": [
    "### Task 1"
   ]
  },
  {
   "cell_type": "code",
   "execution_count": 1,
   "id": "6429e1d5",
   "metadata": {},
   "outputs": [
    {
     "name": "stdout",
     "output_type": "stream",
     "text": [
      "CSV file 'C:\\Users\\kashish trivedi\\Desktop\\CodeOnBytes\\CodesOnBytes.csv' created successfully.\n"
     ]
    }
   ],
   "source": [
    "import requests\n",
    "import pandas as pd\n",
    "\n",
    "api_url = \"https://api.binance.com/api/v3/ticker/24hr\"\n",
    "\n",
    "response = requests.get(api_url)\n",
    "if response.status_code == 200:\n",
    "    df = pd.read_json(response.text)\n",
    "    csv_file_path = r\"C:\\Users\\kashish trivedi\\Desktop\\CodeOnBytes\\CodesOnBytes.csv\"\n",
    "    df.to_csv(csv_file_path, index=False)\n",
    "    \n",
    "    print(f\"CSV file '{csv_file_path}' created successfully.\")\n",
    "else:\n",
    "    print(f\"Failed to retrieve data. Status code: {response.status_code}\")\n"
   ]
  },
  {
   "cell_type": "code",
   "execution_count": null,
   "id": "337eaaae",
   "metadata": {},
   "outputs": [],
   "source": []
  }
 ],
 "metadata": {
  "kernelspec": {
   "display_name": "Python 3 (ipykernel)",
   "language": "python",
   "name": "python3"
  },
  "language_info": {
   "codemirror_mode": {
    "name": "ipython",
    "version": 3
   },
   "file_extension": ".py",
   "mimetype": "text/x-python",
   "name": "python",
   "nbconvert_exporter": "python",
   "pygments_lexer": "ipython3",
   "version": "3.9.12"
  }
 },
 "nbformat": 4,
 "nbformat_minor": 5
}
